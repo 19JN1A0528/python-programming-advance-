{
 "cells": [
  {
   "cell_type": "code",
   "execution_count": 1,
   "id": "b4a10b8e",
   "metadata": {},
   "outputs": [
    {
     "name": "stdout",
     "output_type": "stream",
     "text": [
      "find_the_difference('abcd', 'abcde') ➞ e\n",
      "find_the_difference('', 'y') ➞ y\n",
      "find_the_difference('ae', 'aea') ➞ a\n"
     ]
    }
   ],
   "source": [
    "def find_the_difference(in_one,in_two):\n",
    "    in_two_temp = list(in_two)\n",
    "    for ele in in_one:\n",
    "        if ele in in_two_temp:\n",
    "            in_two_temp.pop(in_two_temp.index(ele))\n",
    "    output = ','.join(in_two_temp)\n",
    "    print(f'find_the_difference{in_one,in_two} ➞ {output}')\n",
    "\n",
    "find_the_difference(\"abcd\", \"abcde\")\n",
    "find_the_difference(\"\", \"y\")\n",
    "find_the_difference(\"ae\", \"aea\")\n"
   ]
  },
  {
   "cell_type": "code",
   "execution_count": 2,
   "id": "2b40df00",
   "metadata": {},
   "outputs": [
    {
     "name": "stdout",
     "output_type": "stream",
     "text": [
      "count_datatypes(1, 45, 'Hi', False)  ➞  [2, 1, 1, 0, 0, 0]\n",
      "count_datatypes([10, 20], ('t', 'Ok'), 2, 3, 1)  ➞  [3, 0, 0, 1, 1, 0]\n",
      "count_datatypes('Hello', 'Bye', True, True, False, {'1': 'One', '2': 'Two'}, [1, 3], {'Brayan': 18}, 25, 23)  ➞  [2, 2, 3, 1, 0, 2]\n",
      "count_datatypes(4, 21, ('ES', 'EN'), ('a', 'b'), False, [1, 2, 3], [4, 5, 6])  ➞  [2, 0, 1, 2, 2, 0]\n"
     ]
    }
   ],
   "source": [
    "from collections import OrderedDict\n",
    "def count_datatypes(*args):\n",
    "    output = OrderedDict({'int':0,'str':0,'bool':0,'list':0,'tuple':0,'dict':0})\n",
    "    for ele in args:\n",
    "        output[type(ele).__name__] += 1\n",
    "    print(f'count_datatypes{args}  ➞  {list(output.values())}')\n",
    "    \n",
    "count_datatypes(1, 45, \"Hi\", False)   \n",
    "count_datatypes([10, 20], (\"t\", \"Ok\"), 2, 3, 1)\n",
    "count_datatypes(\"Hello\", \"Bye\", True, True, False, {\"1\": \"One\", \"2\": \"Two\"}, [1, 3], {\"Brayan\": 18}, 25, 23)\n",
    "count_datatypes(4, 21, (\"ES\", \"EN\"), (\"a\", \"b\"), False, [1, 2, 3], [4, 5, 6])"
   ]
  },
  {
   "cell_type": "code",
   "execution_count": 3,
   "id": "ac1a781f",
   "metadata": {},
   "outputs": [
    {
     "name": "stdout",
     "output_type": "stream",
     "text": [
      "fib_str_one(3, ['j', 'h']) ➞ j, h, hj\n",
      "fib_str_one(5, ['e', 'a']) ➞ e, a, ae, aea, aeaae\n",
      "fib_str_one(6, ['n', 'k']) ➞ n, k, kn, knk, knkkn, knkknknk\n",
      "\n",
      "fib_str_two(3, ['j', 'h']) ➞ j, h, hj\n",
      "fib_str_two(5, ['e', 'a']) ➞ e, a, ae, eae, aeeae\n",
      "fib_str_two(6, ['n', 'k']) ➞ n, k, kn, nkn, knnkn, nknknnkn\n"
     ]
    }
   ],
   "source": [
    "def fib_str_one(in_num,in_list):\n",
    "    out_list = in_list.copy()\n",
    "    if in_num > 2:\n",
    "        for ele in range(2,in_num):\n",
    "            out_list.append(out_list[-1]+out_list[-2])\n",
    "    print(f'fib_str_one{in_num, in_list} ➞ {\", \".join(out_list)}')\n",
    "\n",
    "# Approach 2 Without Using Lists\n",
    "def fib_str_two(in_num,in_list):\n",
    "    back_one, back_two = in_list[-1],in_list[-2]\n",
    "    output=\", \".join(in_list)\n",
    "    if in_num > 2:\n",
    "        for ele in range(2,in_num):\n",
    "            temp = back_one+back_two\n",
    "            output += \", \"+temp\n",
    "            back_one = back_two\n",
    "            back_two = temp\n",
    "    print(f'fib_str_two{in_num, in_list} ➞ {output}')\n",
    "    \n",
    "fib_str_one(3, [\"j\", \"h\"]) \n",
    "fib_str_one(5, [\"e\", \"a\"])\n",
    "fib_str_one(6, [\"n\", \"k\"])\n",
    "print()\n",
    "fib_str_two(3, [\"j\", \"h\"]) \n",
    "fib_str_two(5, [\"e\", \"a\"])\n",
    "fib_str_two(6, [\"n\", \"k\"])\n"
   ]
  },
  {
   "cell_type": "code",
   "execution_count": null,
   "id": "3d14461f",
   "metadata": {},
   "outputs": [],
   "source": []
  }
 ],
 "metadata": {
  "kernelspec": {
   "display_name": "Python 3",
   "language": "python",
   "name": "python3"
  },
  "language_info": {
   "codemirror_mode": {
    "name": "ipython",
    "version": 3
   },
   "file_extension": ".py",
   "mimetype": "text/x-python",
   "name": "python",
   "nbconvert_exporter": "python",
   "pygments_lexer": "ipython3",
   "version": "3.8.8"
  }
 },
 "nbformat": 4,
 "nbformat_minor": 5
}
